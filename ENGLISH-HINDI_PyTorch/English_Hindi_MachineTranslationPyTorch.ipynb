{
  "nbformat": 4,
  "nbformat_minor": 0,
  "metadata": {
    "colab": {
      "name": "English-Hindi_MachineTranslationPyTorch.ipynb",
      "provenance": []
    },
    "kernelspec": {
      "name": "python3",
      "display_name": "Python 3"
    },
    "accelerator": "GPU"
  },
  "cells": [
    {
      "cell_type": "code",
      "metadata": {
        "id": "o3caLsyngPts"
      },
      "source": [
        "from __future__ import unicode_literals, print_function, division\n",
        "from io import open\n",
        "import unicodedata\n",
        "import string\n",
        "import re\n",
        "import random\n",
        "\n",
        "import torch\n",
        "import torch.nn as nn\n",
        "from torch import optim\n",
        "import torch.nn.functional as F\n",
        "\n",
        "device = torch.device(\"cuda\" if torch.cuda.is_available() else \"cpu\")"
      ],
      "execution_count": 11,
      "outputs": []
    },
    {
      "cell_type": "code",
      "metadata": {
        "id": "GxM3s4zUgZ8d"
      },
      "source": [
        "SOS_token = 0\n",
        "EOS_token = 1\n",
        "\n",
        "\n",
        "class Lang:\n",
        "    def __init__(self, name):\n",
        "        self.name = name\n",
        "        self.word2index = {}\n",
        "        self.word2count = {}\n",
        "        self.index2word = {0: \"SOS\", 1: \"EOS\"}\n",
        "        self.n_words = 2  # Count SOS and EOS\n",
        "\n",
        "    def addSentence(self, sentence):\n",
        "        for word in sentence.split(' '):\n",
        "            self.addWord(word)\n",
        "\n",
        "    def addWord(self, word):\n",
        "        if word not in self.word2index:\n",
        "            self.word2index[word] = self.n_words\n",
        "            self.word2count[word] = 1\n",
        "            self.index2word[self.n_words] = word\n",
        "            self.n_words += 1\n",
        "        else:\n",
        "            self.word2count[word] += 1"
      ],
      "execution_count": 12,
      "outputs": []
    },
    {
      "cell_type": "code",
      "metadata": {
        "id": "UzbR5-uTgch8"
      },
      "source": [
        "# Turn a Unicode string to plain ASCII, thanks to\n",
        "# http://stackoverflow.com/a/518232/2809427\n",
        "def unicodeToAscii(s):\n",
        "    return ''.join(\n",
        "        c for c in unicodedata.normalize('NFD', s)\n",
        "        if unicodedata.category(c) != 'Mn'\n",
        "    )\n",
        "\n",
        "# Lowercase, trim, and remove non-letter characters\n",
        "\n",
        "\n",
        "def normalizeString(s):\n",
        "    s = s.lower().strip()\n",
        "    s = re.sub(r\"([.!?])\", r\" \\1\", s)\n",
        "    #table = str.maketrans('', '', string.punctuation)\n",
        "    #s = [word.translate(table) for word in s]\n",
        "    s = re.sub(r\"[.!?]+\", r\" \", s)\n",
        "    return s"
      ],
      "execution_count": 13,
      "outputs": []
    },
    {
      "cell_type": "code",
      "metadata": {
        "id": "8NXi2ZhEnzhT"
      },
      "source": [
        "!cp /content/drive/'My Drive'/MachineTranslationData/hin.txt /content/"
      ],
      "execution_count": null,
      "outputs": []
    },
    {
      "cell_type": "code",
      "metadata": {
        "id": "q1jbVqZGgfox"
      },
      "source": [
        "def readLangs(lang1, lang2, reverse=False):\n",
        "    print(\"Reading lines...\")\n",
        "\n",
        "    # Read the file and split into lines\n",
        "    lines = open('./hin.txt',encoding='utf-8').\\\n",
        "        read().strip().split('\\n')\n",
        "\n",
        "    # Split every line into pairs and normalize\n",
        "    pairs = [[normalizeString(s) for s in l.split('\\t')] for l in lines]\n",
        "\n",
        "    # Reverse pairs, make Lang instances\n",
        "    if reverse:\n",
        "        pairs = [list(reversed(p)) for p in pairs]\n",
        "        input_lang = Lang(lang2)\n",
        "        output_lang = Lang(lang1)\n",
        "    else:\n",
        "        input_lang = Lang(lang1)\n",
        "        output_lang = Lang(lang2)\n",
        "\n",
        "    return input_lang, output_lang, pairs"
      ],
      "execution_count": 14,
      "outputs": []
    },
    {
      "cell_type": "code",
      "metadata": {
        "id": "hmJwUrzUhhx3",
        "outputId": "67e3902c-5188-4cb2-bce0-36797f442779",
        "colab": {
          "base_uri": "https://localhost:8080/",
          "height": 35
        }
      },
      "source": [
        "!pwd"
      ],
      "execution_count": 15,
      "outputs": [
        {
          "output_type": "stream",
          "text": [
            "/content\n"
          ],
          "name": "stdout"
        }
      ]
    },
    {
      "cell_type": "code",
      "metadata": {
        "id": "OUNwgpLUgnHz"
      },
      "source": [
        "MAX_LENGTH = 22\n",
        "\n",
        "eng_prefixes = (\n",
        "    \"i am \", \"i m \",\n",
        "    \"he is\", \"he s \",\n",
        "    \"she is\", \"she s\",\n",
        "    \"you are\", \"you re \",\n",
        "    \"we are\", \"we re \",\n",
        "    \"they are\", \"they re \"\n",
        ")\n",
        "\n",
        "\n",
        "def filterPair(p):\n",
        "    return len(p[0].split(' ')) < MAX_LENGTH and \\\n",
        "        len(p[1].split(' ')) < MAX_LENGTH #and \\\n",
        "        #p[0].startswith(eng_prefixes)\n",
        "\n",
        "\n",
        "def filterPairs(pairs):\n",
        "    return [pair for pair in pairs if filterPair(pair)]"
      ],
      "execution_count": 16,
      "outputs": []
    },
    {
      "cell_type": "code",
      "metadata": {
        "id": "zFA9-0aQgqR-",
        "outputId": "fa995904-4d75-4e10-936c-60918a92b252",
        "colab": {
          "base_uri": "https://localhost:8080/",
          "height": 164
        }
      },
      "source": [
        "def prepareData(lang1, lang2, reverse=False):\n",
        "    input_lang, output_lang, pairs = readLangs(lang1, lang2, reverse)\n",
        "    print(\"Read %s sentence pairs\" % len(pairs))\n",
        "    pairs = filterPairs(pairs)\n",
        "    print(\"Trimmed to %s sentence pairs\" % len(pairs))\n",
        "    print(\"Counting words...\")\n",
        "    for pair in pairs:\n",
        "        input_lang.addSentence(pair[0])\n",
        "        output_lang.addSentence(pair[1])\n",
        "    print(\"Counted words:\")\n",
        "    print(input_lang.name, input_lang.n_words)\n",
        "    print(output_lang.name, output_lang.n_words)\n",
        "    return input_lang, output_lang, pairs\n",
        "\n",
        "\n",
        "input_lang, output_lang, pairs = prepareData('eng', 'hin1', False)\n",
        "print(random.choice(pairs))\n",
        "#print(pairs)"
      ],
      "execution_count": 17,
      "outputs": [
        {
          "output_type": "stream",
          "text": [
            "Reading lines...\n",
            "Read 2869 sentence pairs\n",
            "Trimmed to 2867 sentence pairs\n",
            "Counting words...\n",
            "Counted words:\n",
            "eng 2518\n",
            "hin1 3097\n",
            "['we must pay the tax  ', 'हमें टैक्स भरना पड़ेगा।']\n"
          ],
          "name": "stdout"
        }
      ]
    },
    {
      "cell_type": "code",
      "metadata": {
        "id": "WLgq5OxNoq0l"
      },
      "source": [
        "%matplotlib inline\n",
        "class EncoderRNN(nn.Module):\n",
        "    def __init__(self, input_size, hidden_size):\n",
        "        super(EncoderRNN, self).__init__()\n",
        "        self.hidden_size = hidden_size\n",
        "\n",
        "        self.embedding = nn.Embedding(input_size, hidden_size)\n",
        "        self.gru = nn.GRU(hidden_size, hidden_size)\n",
        "\n",
        "    def forward(self, input, hidden):\n",
        "        embedded = self.embedding(input).view(1, 1, -1)\n",
        "        output = embedded\n",
        "        output, hidden = self.gru(output, hidden)\n",
        "        return output, hidden\n",
        "\n",
        "    def initHidden(self):\n",
        "        return torch.zeros(1, 1, self.hidden_size, device=device)"
      ],
      "execution_count": 18,
      "outputs": []
    },
    {
      "cell_type": "code",
      "metadata": {
        "id": "E1f4OISwprwG"
      },
      "source": [
        "%matplotlib inline\n",
        "class DecoderRNN(nn.Module):\n",
        "    def __init__(self, hidden_size, output_size):\n",
        "        super(DecoderRNN, self).__init__()\n",
        "        self.hidden_size = hidden_size\n",
        "\n",
        "        self.embedding = nn.Embedding(output_size, hidden_size)\n",
        "        self.gru = nn.GRU(hidden_size, hidden_size)\n",
        "        self.out = nn.Linear(hidden_size, output_size)\n",
        "        self.softmax = nn.LogSoftmax(dim=1)\n",
        "\n",
        "    def forward(self, input, hidden):\n",
        "        output = self.embedding(input).view(1, 1, -1)\n",
        "        output = F.relu(output)\n",
        "        output, hidden = self.gru(output, hidden)\n",
        "        output = self.softmax(self.out(output[0]))\n",
        "        return output, hidden\n",
        "\n",
        "    def initHidden(self):\n",
        "        return torch.zeros(1, 1, self.hidden_size, device=device)"
      ],
      "execution_count": 19,
      "outputs": []
    },
    {
      "cell_type": "code",
      "metadata": {
        "id": "yOCkJyiKpupf"
      },
      "source": [
        "%matplotlib inline\n",
        "class AttnDecoderRNN(nn.Module):\n",
        "    def __init__(self, hidden_size, output_size, dropout_p=0.1, max_length=MAX_LENGTH):\n",
        "        super(AttnDecoderRNN, self).__init__()\n",
        "        self.hidden_size = hidden_size\n",
        "        self.output_size = output_size\n",
        "        self.dropout_p = dropout_p\n",
        "        self.max_length = max_length\n",
        "\n",
        "        self.embedding = nn.Embedding(self.output_size, self.hidden_size)\n",
        "        self.attn = nn.Linear(self.hidden_size * 2, self.max_length)\n",
        "        self.attn_combine = nn.Linear(self.hidden_size * 2, self.hidden_size)\n",
        "        self.dropout = nn.Dropout(self.dropout_p)\n",
        "        self.gru = nn.GRU(self.hidden_size, self.hidden_size)\n",
        "        self.out = nn.Linear(self.hidden_size, self.output_size)\n",
        "\n",
        "    def forward(self, input, hidden, encoder_outputs):\n",
        "        embedded = self.embedding(input).view(1, 1, -1)\n",
        "        embedded = self.dropout(embedded)\n",
        "\n",
        "        attn_weights = F.softmax(\n",
        "            self.attn(torch.cat((embedded[0], hidden[0]), 1)), dim=1)\n",
        "        attn_applied = torch.bmm(attn_weights.unsqueeze(0),\n",
        "                                 encoder_outputs.unsqueeze(0))\n",
        "\n",
        "        output = torch.cat((embedded[0], attn_applied[0]), 1)\n",
        "        output = self.attn_combine(output).unsqueeze(0)\n",
        "\n",
        "        output = F.relu(output)\n",
        "        output, hidden = self.gru(output, hidden)\n",
        "\n",
        "        output = F.log_softmax(self.out(output[0]), dim=1)\n",
        "        return output, hidden, attn_weights\n",
        "\n",
        "    def initHidden(self):\n",
        "        return torch.zeros(1, 1, self.hidden_size, device=device)"
      ],
      "execution_count": 20,
      "outputs": []
    },
    {
      "cell_type": "code",
      "metadata": {
        "id": "BPe53WYwpzhm"
      },
      "source": [
        "def indexesFromSentence(lang, sentence):\n",
        "    %matplotlib inline\n",
        "    return [lang.word2index[word] for word in sentence.split(' ')]\n",
        "\n",
        "\n",
        "def tensorFromSentence(lang, sentence):\n",
        "    indexes = indexesFromSentence(lang, sentence)\n",
        "    indexes.append(EOS_token)\n",
        "    return torch.tensor(indexes, dtype=torch.long, device=device).view(-1, 1)\n",
        "\n",
        "\n",
        "def tensorsFromPair(pair):\n",
        "    input_tensor = tensorFromSentence(input_lang, pair[0])\n",
        "    target_tensor = tensorFromSentence(output_lang, pair[1])\n",
        "    return (input_tensor, target_tensor)"
      ],
      "execution_count": 21,
      "outputs": []
    },
    {
      "cell_type": "code",
      "metadata": {
        "id": "BfBFmrqUp2-1"
      },
      "source": [
        "%matplotlib inline\n",
        "teacher_forcing_ratio = 0.7\n",
        "\n",
        "\n",
        "def train(input_tensor, target_tensor, encoder, decoder, encoder_optimizer, decoder_optimizer, criterion, max_length=MAX_LENGTH):\n",
        "    encoder_hidden = encoder.initHidden()\n",
        "    %matplotlib inline\n",
        "\n",
        "    encoder_optimizer.zero_grad()\n",
        "    decoder_optimizer.zero_grad()\n",
        "\n",
        "    input_length = input_tensor.size(0)\n",
        "    target_length = target_tensor.size(0)\n",
        "\n",
        "    encoder_outputs = torch.zeros(max_length, encoder.hidden_size, device=device)\n",
        "\n",
        "    loss = 0\n",
        "\n",
        "    for ei in range(input_length):\n",
        "        encoder_output, encoder_hidden = encoder(\n",
        "            input_tensor[ei], encoder_hidden)\n",
        "        encoder_outputs[ei] = encoder_output[0, 0]\n",
        "\n",
        "    decoder_input = torch.tensor([[SOS_token]], device=device)\n",
        "\n",
        "    decoder_hidden = encoder_hidden\n",
        "\n",
        "    use_teacher_forcing = True if random.random() < teacher_forcing_ratio else False\n",
        "\n",
        "    if use_teacher_forcing:\n",
        "        # Teacher forcing: Feed the target as the next input\n",
        "        for di in range(target_length):\n",
        "            decoder_output, decoder_hidden, decoder_attention = decoder(\n",
        "                decoder_input, decoder_hidden, encoder_outputs)\n",
        "            loss += criterion(decoder_output, target_tensor[di])\n",
        "            decoder_input = target_tensor[di]  # Teacher forcing\n",
        "\n",
        "    else:\n",
        "        # Without teacher forcing: use its own predictions as the next input\n",
        "        for di in range(target_length):\n",
        "            decoder_output, decoder_hidden, decoder_attention = decoder(\n",
        "                decoder_input, decoder_hidden, encoder_outputs)\n",
        "            topv, topi = decoder_output.topk(1)\n",
        "            decoder_input = topi.squeeze().detach()  # detach from history as input\n",
        "\n",
        "            loss += criterion(decoder_output, target_tensor[di])\n",
        "            if decoder_input.item() == EOS_token:\n",
        "                break\n",
        "\n",
        "    loss.backward()\n",
        "\n",
        "    encoder_optimizer.step()\n",
        "    decoder_optimizer.step()\n",
        "\n",
        "    return loss.item() / target_length"
      ],
      "execution_count": 22,
      "outputs": []
    },
    {
      "cell_type": "code",
      "metadata": {
        "id": "tzSWAXGAp5-L"
      },
      "source": [
        "%matplotlib inline\n",
        "import time\n",
        "import math\n",
        "\n",
        "\n",
        "def asMinutes(s):\n",
        "    m = math.floor(s / 60)\n",
        "    s -= m * 60\n",
        "    return '%dm %ds' % (m, s)\n",
        "\n",
        "\n",
        "def timeSince(since, percent):\n",
        "    now = time.time()\n",
        "    s = now - since\n",
        "    es = s / (percent)\n",
        "    rs = es - s\n",
        "    return '%s (- %s)' % (asMinutes(s), asMinutes(rs))"
      ],
      "execution_count": 23,
      "outputs": []
    },
    {
      "cell_type": "code",
      "metadata": {
        "id": "Jni5_cSYp8tc"
      },
      "source": [
        "%matplotlib inline\n",
        "def trainIters(encoder, decoder, n_iters, print_every=1000, plot_every=100, learning_rate=0.01):\n",
        "    %matplotlib inline\n",
        "    start = time.time()\n",
        "    plot_losses = []\n",
        "    print_loss_total = 0  # Reset every print_every\n",
        "    plot_loss_total = 0  # Reset every plot_every\n",
        "\n",
        "    encoder_optimizer = optim.SGD(encoder.parameters(), lr=learning_rate)\n",
        "    decoder_optimizer = optim.SGD(decoder.parameters(), lr=learning_rate)\n",
        "    training_pairs = [tensorsFromPair(random.choice(pairs))\n",
        "                      for i in range(n_iters)]\n",
        "    criterion = nn.NLLLoss()\n",
        "\n",
        "    for iter in range(1, n_iters + 1):\n",
        "        training_pair = training_pairs[iter - 1]\n",
        "        input_tensor = training_pair[0]\n",
        "        target_tensor = training_pair[1]\n",
        "\n",
        "        loss = train(input_tensor, target_tensor, encoder,\n",
        "                     decoder, encoder_optimizer, decoder_optimizer, criterion)\n",
        "        print_loss_total += loss\n",
        "        plot_loss_total += loss\n",
        "\n",
        "        if iter % print_every == 0:\n",
        "            print_loss_avg = print_loss_total / print_every\n",
        "            print_loss_total = 0\n",
        "            print('%s (%d %d%%) %.4f' % (timeSince(start, iter / n_iters),\n",
        "                                         iter, iter / n_iters * 100, print_loss_avg))\n",
        "\n",
        "        if iter % plot_every == 0:\n",
        "            plot_loss_avg = plot_loss_total / plot_every\n",
        "            plot_losses.append(plot_loss_avg)\n",
        "            plot_loss_total = 0\n",
        "\n",
        "    showPlot(plot_losses)"
      ],
      "execution_count": 24,
      "outputs": []
    },
    {
      "cell_type": "code",
      "metadata": {
        "id": "GJKiRlxNp_Xi"
      },
      "source": [
        "%matplotlib inline\n",
        "import matplotlib.pyplot as plt\n",
        "plt.switch_backend('agg')\n",
        "import matplotlib.ticker as ticker\n",
        "import numpy as np\n",
        "\n",
        "\n",
        "def showPlot(points):\n",
        "    %matplotlib inline\n",
        "    plt.figure()\n",
        "    fig, ax = plt.subplots()\n",
        "    # this locator puts ticks at regular intervals\n",
        "    loc = ticker.MultipleLocator(base=0.2)\n",
        "    ax.yaxis.set_major_locator(loc)\n",
        "    plt.plot(points)"
      ],
      "execution_count": 25,
      "outputs": []
    },
    {
      "cell_type": "code",
      "metadata": {
        "id": "VkD61ckeqBdJ"
      },
      "source": [
        "def evaluate(encoder, decoder, sentence, max_length=MAX_LENGTH):\n",
        "    %matplotlib inline\n",
        "    with torch.no_grad():\n",
        "        input_tensor = tensorFromSentence(input_lang, sentence)\n",
        "        input_length = input_tensor.size()[0]\n",
        "        encoder_hidden = encoder.initHidden()\n",
        "\n",
        "        encoder_outputs = torch.zeros(max_length, encoder.hidden_size, device=device)\n",
        "\n",
        "        for ei in range(input_length):\n",
        "            encoder_output, encoder_hidden = encoder(input_tensor[ei],\n",
        "                                                     encoder_hidden)\n",
        "            encoder_outputs[ei] += encoder_output[0, 0]\n",
        "\n",
        "        decoder_input = torch.tensor([[SOS_token]], device=device)  # SOS\n",
        "\n",
        "        decoder_hidden = encoder_hidden\n",
        "\n",
        "        decoded_words = []\n",
        "        decoder_attentions = torch.zeros(max_length, max_length)\n",
        "\n",
        "        for di in range(max_length):\n",
        "            decoder_output, decoder_hidden, decoder_attention = decoder(\n",
        "                decoder_input, decoder_hidden, encoder_outputs)\n",
        "            decoder_attentions[di] = decoder_attention.data\n",
        "            topv, topi = decoder_output.data.topk(1)\n",
        "            if topi.item() == EOS_token:\n",
        "                decoded_words.append('')\n",
        "                break\n",
        "            else:\n",
        "                decoded_words.append(output_lang.index2word[topi.item()])\n",
        "\n",
        "            decoder_input = topi.squeeze().detach()\n",
        "\n",
        "        return decoded_words, decoder_attentions[:di + 1]"
      ],
      "execution_count": 26,
      "outputs": []
    },
    {
      "cell_type": "code",
      "metadata": {
        "id": "HP7ejqT5qEFv"
      },
      "source": [
        "def evaluateRandomly(encoder, decoder, n=10):\n",
        "    from nltk.translate.bleu_score import sentence_bleu\n",
        "    %matplotlib inline\n",
        "    for i in range(n):\n",
        "        pair = random.choice(pairs)\n",
        "        print('English: ', pair[0])\n",
        "        print('Actual: ', pair[1])\n",
        "        output_words, attentions = evaluate(encoder, decoder, pair[0])\n",
        "        output_sentence = ' '.join(output_words)\n",
        "        print('Predicted: ', output_sentence)\n",
        "        act = pair[1].split()\n",
        "        pred = output_sentence.split()\n",
        "        print('Cumulative 1-gram: %f' % sentence_bleu([act], pred, weights=(1, 0, 0, 0)))\n",
        "        print('Cumulative 2-gram: %f' % sentence_bleu([act], pred, weights=(0.5, 0.5, 0, 0)))\n",
        "        print('Cumulative 3-gram: %f' % sentence_bleu([act], pred, weights=(0.33, 0.33, 0.33, 0)))\n",
        "        print('Cumulative 4-gram: %f' % sentence_bleu([act], pred, weights=(0.25, 0.25, 0.25, 0.25)))\n",
        "        score = sentence_bleu([act], pred)\n",
        "        print(score)\n",
        "        print('')"
      ],
      "execution_count": 27,
      "outputs": []
    },
    {
      "cell_type": "code",
      "metadata": {
        "id": "VwxMKFSaqGhZ",
        "outputId": "3f0028b8-dff2-416d-d7be-e4db314ed236",
        "colab": {
          "base_uri": "https://localhost:8080/",
          "height": 1000
        }
      },
      "source": [
        "%matplotlib inline\n",
        "hidden_size = 512\n",
        "encoder1 = EncoderRNN(input_lang.n_words, hidden_size).to(device)\n",
        "attn_decoder1 = AttnDecoderRNN(hidden_size, output_lang.n_words, dropout_p=0.1).to(device)\n",
        "\n",
        "trainIters(encoder1, attn_decoder1, 40000, print_every=200)"
      ],
      "execution_count": 32,
      "outputs": [
        {
          "output_type": "stream",
          "text": [
            "0m 28s (- 94m 16s) (200 0%) 4.8806\n",
            "0m 32s (- 54m 0s) (400 1%) 5.2148\n",
            "0m 36s (- 40m 29s) (600 1%) 5.2968\n",
            "0m 41s (- 33m 32s) (800 2%) 4.9820\n",
            "0m 45s (- 29m 21s) (1000 2%) 5.2001\n",
            "0m 49s (- 26m 37s) (1200 3%) 5.1176\n",
            "0m 53s (- 24m 36s) (1400 3%) 5.0843\n",
            "0m 57s (- 23m 8s) (1600 4%) 4.9846\n",
            "1m 2s (- 21m 56s) (1800 4%) 5.0415\n",
            "1m 6s (- 20m 56s) (2000 5%) 4.9495\n",
            "1m 10s (- 20m 11s) (2200 5%) 4.9619\n",
            "1m 14s (- 19m 30s) (2400 6%) 4.7401\n",
            "1m 18s (- 18m 56s) (2600 6%) 4.9860\n",
            "1m 23s (- 18m 27s) (2800 7%) 4.9813\n",
            "1m 27s (- 18m 1s) (3000 7%) 4.6469\n",
            "1m 32s (- 17m 38s) (3200 8%) 4.6537\n",
            "1m 36s (- 17m 15s) (3400 8%) 4.5725\n",
            "1m 40s (- 16m 53s) (3600 9%) 4.4894\n",
            "1m 44s (- 16m 34s) (3800 9%) 4.6008\n",
            "1m 48s (- 16m 18s) (4000 10%) 4.4686\n",
            "1m 53s (- 16m 3s) (4200 10%) 4.4887\n",
            "1m 57s (- 15m 48s) (4400 11%) 4.3330\n",
            "2m 1s (- 15m 35s) (4600 11%) 4.2949\n",
            "2m 5s (- 15m 23s) (4800 12%) 4.3784\n",
            "2m 10s (- 15m 12s) (5000 12%) 4.2772\n",
            "2m 14s (- 15m 1s) (5200 13%) 4.2641\n",
            "2m 19s (- 14m 51s) (5400 13%) 4.2103\n",
            "2m 23s (- 14m 41s) (5600 14%) 4.1747\n",
            "2m 27s (- 14m 31s) (5800 14%) 4.0454\n",
            "2m 32s (- 14m 22s) (6000 15%) 4.1922\n",
            "2m 36s (- 14m 12s) (6200 15%) 4.0736\n",
            "2m 40s (- 14m 4s) (6400 16%) 3.9999\n",
            "2m 45s (- 13m 55s) (6600 16%) 4.0667\n",
            "2m 49s (- 13m 47s) (6800 17%) 3.8301\n",
            "2m 53s (- 13m 38s) (7000 17%) 3.8901\n",
            "2m 57s (- 13m 30s) (7200 18%) 3.7876\n",
            "3m 2s (- 13m 22s) (7400 18%) 3.8013\n",
            "3m 6s (- 13m 15s) (7600 19%) 3.7552\n",
            "3m 10s (- 13m 8s) (7800 19%) 3.7708\n",
            "3m 15s (- 13m 1s) (8000 20%) 3.4783\n",
            "3m 19s (- 12m 54s) (8200 20%) 3.5418\n",
            "3m 24s (- 12m 47s) (8400 21%) 3.3953\n",
            "3m 28s (- 12m 40s) (8600 21%) 3.5008\n",
            "3m 32s (- 12m 33s) (8800 22%) 3.4443\n",
            "3m 36s (- 12m 26s) (9000 22%) 3.5431\n",
            "3m 40s (- 12m 19s) (9200 23%) 3.3036\n",
            "3m 45s (- 12m 12s) (9400 23%) 3.3196\n",
            "3m 49s (- 12m 6s) (9600 24%) 3.2744\n",
            "3m 53s (- 12m 0s) (9800 24%) 3.1929\n",
            "3m 58s (- 11m 54s) (10000 25%) 3.3454\n",
            "4m 2s (- 11m 48s) (10200 25%) 3.2462\n",
            "4m 6s (- 11m 42s) (10400 26%) 2.9824\n",
            "4m 11s (- 11m 36s) (10600 26%) 3.0880\n",
            "4m 15s (- 11m 30s) (10800 27%) 3.1570\n",
            "4m 19s (- 11m 24s) (11000 27%) 2.9380\n",
            "4m 23s (- 11m 18s) (11200 28%) 2.8948\n",
            "4m 28s (- 11m 12s) (11400 28%) 2.7795\n",
            "4m 32s (- 11m 7s) (11600 28%) 2.7684\n",
            "4m 36s (- 11m 1s) (11800 29%) 2.9656\n",
            "4m 41s (- 10m 56s) (12000 30%) 2.6541\n",
            "4m 45s (- 10m 50s) (12200 30%) 2.6267\n",
            "4m 49s (- 10m 45s) (12400 31%) 2.6264\n",
            "4m 54s (- 10m 39s) (12600 31%) 2.4677\n",
            "4m 58s (- 10m 34s) (12800 32%) 2.8468\n",
            "5m 2s (- 10m 29s) (13000 32%) 2.6666\n",
            "5m 7s (- 10m 23s) (13200 33%) 2.5255\n",
            "5m 11s (- 10m 18s) (13400 33%) 2.5618\n",
            "5m 15s (- 10m 13s) (13600 34%) 2.3420\n",
            "5m 20s (- 10m 8s) (13800 34%) 2.4689\n",
            "5m 24s (- 10m 3s) (14000 35%) 2.4662\n",
            "5m 29s (- 9m 58s) (14200 35%) 2.3608\n",
            "5m 33s (- 9m 53s) (14400 36%) 2.3949\n",
            "5m 38s (- 9m 48s) (14600 36%) 2.2736\n",
            "5m 42s (- 9m 43s) (14800 37%) 2.2355\n",
            "5m 47s (- 9m 38s) (15000 37%) 2.1014\n",
            "5m 51s (- 9m 33s) (15200 38%) 2.3191\n",
            "5m 55s (- 9m 28s) (15400 38%) 2.0486\n",
            "6m 0s (- 9m 23s) (15600 39%) 2.0323\n",
            "6m 4s (- 9m 18s) (15800 39%) 2.1607\n",
            "6m 9s (- 9m 13s) (16000 40%) 1.9938\n",
            "6m 13s (- 9m 8s) (16200 40%) 2.1299\n",
            "6m 18s (- 9m 4s) (16400 41%) 2.0447\n",
            "6m 22s (- 8m 59s) (16600 41%) 2.2506\n",
            "6m 27s (- 8m 54s) (16800 42%) 1.9863\n",
            "6m 31s (- 8m 49s) (17000 42%) 1.9815\n",
            "6m 36s (- 8m 45s) (17200 43%) 1.9983\n",
            "6m 40s (- 8m 40s) (17400 43%) 1.8597\n",
            "6m 45s (- 8m 35s) (17600 44%) 1.9556\n",
            "6m 49s (- 8m 30s) (17800 44%) 1.8135\n",
            "6m 53s (- 8m 25s) (18000 45%) 2.0482\n",
            "6m 58s (- 8m 20s) (18200 45%) 1.7821\n",
            "7m 2s (- 8m 15s) (18400 46%) 1.8155\n",
            "7m 6s (- 8m 10s) (18600 46%) 1.6714\n",
            "7m 11s (- 8m 6s) (18800 47%) 1.6743\n",
            "7m 15s (- 8m 1s) (19000 47%) 1.7719\n",
            "7m 19s (- 7m 56s) (19200 48%) 1.6007\n",
            "7m 24s (- 7m 51s) (19400 48%) 1.3212\n",
            "7m 28s (- 7m 47s) (19600 49%) 1.6429\n",
            "7m 33s (- 7m 42s) (19800 49%) 1.7634\n",
            "7m 37s (- 7m 37s) (20000 50%) 1.5833\n",
            "7m 42s (- 7m 32s) (20200 50%) 1.6483\n",
            "7m 46s (- 7m 28s) (20400 51%) 1.7298\n",
            "7m 51s (- 7m 23s) (20600 51%) 1.5096\n",
            "7m 55s (- 7m 18s) (20800 52%) 1.5708\n",
            "7m 59s (- 7m 14s) (21000 52%) 1.5657\n",
            "8m 4s (- 7m 9s) (21200 53%) 1.4767\n",
            "8m 8s (- 7m 4s) (21400 53%) 1.2660\n",
            "8m 13s (- 7m 0s) (21600 54%) 1.4805\n",
            "8m 17s (- 6m 55s) (21800 54%) 1.3887\n",
            "8m 22s (- 6m 50s) (22000 55%) 1.6567\n",
            "8m 26s (- 6m 46s) (22200 55%) 1.5547\n",
            "8m 31s (- 6m 41s) (22400 56%) 1.3125\n",
            "8m 35s (- 6m 36s) (22600 56%) 1.3674\n",
            "8m 39s (- 6m 32s) (22800 56%) 1.2520\n",
            "8m 44s (- 6m 27s) (23000 57%) 1.2296\n",
            "8m 48s (- 6m 22s) (23200 57%) 1.2880\n",
            "8m 53s (- 6m 18s) (23400 58%) 1.4194\n",
            "8m 57s (- 6m 13s) (23600 59%) 1.2061\n",
            "9m 2s (- 6m 9s) (23800 59%) 1.2150\n",
            "9m 6s (- 6m 4s) (24000 60%) 1.1868\n",
            "9m 11s (- 5m 59s) (24200 60%) 1.1937\n",
            "9m 15s (- 5m 55s) (24400 61%) 1.1225\n",
            "9m 20s (- 5m 50s) (24600 61%) 1.2668\n",
            "9m 24s (- 5m 46s) (24800 62%) 1.0612\n",
            "9m 28s (- 5m 41s) (25000 62%) 1.1390\n",
            "9m 33s (- 5m 36s) (25200 63%) 1.1735\n",
            "9m 37s (- 5m 32s) (25400 63%) 1.2190\n",
            "9m 42s (- 5m 27s) (25600 64%) 1.0593\n",
            "9m 46s (- 5m 22s) (25800 64%) 0.9839\n",
            "9m 50s (- 5m 18s) (26000 65%) 1.1111\n",
            "9m 55s (- 5m 13s) (26200 65%) 1.0715\n",
            "9m 59s (- 5m 9s) (26400 66%) 0.9284\n",
            "10m 4s (- 5m 4s) (26600 66%) 1.1364\n",
            "10m 8s (- 4m 59s) (26800 67%) 1.0395\n",
            "10m 13s (- 4m 55s) (27000 67%) 1.0652\n",
            "10m 17s (- 4m 50s) (27200 68%) 0.9370\n",
            "10m 22s (- 4m 46s) (27400 68%) 0.9664\n",
            "10m 27s (- 4m 41s) (27600 69%) 0.9560\n",
            "10m 31s (- 4m 37s) (27800 69%) 0.9251\n",
            "10m 35s (- 4m 32s) (28000 70%) 0.9230\n",
            "10m 40s (- 4m 27s) (28200 70%) 1.0247\n",
            "10m 44s (- 4m 23s) (28400 71%) 0.9456\n",
            "10m 49s (- 4m 18s) (28600 71%) 0.8650\n",
            "10m 53s (- 4m 14s) (28800 72%) 0.9843\n",
            "10m 58s (- 4m 9s) (29000 72%) 0.9380\n",
            "11m 2s (- 4m 5s) (29200 73%) 0.9206\n",
            "11m 7s (- 4m 0s) (29400 73%) 1.0178\n",
            "11m 11s (- 3m 55s) (29600 74%) 0.8739\n",
            "11m 15s (- 3m 51s) (29800 74%) 0.8158\n",
            "11m 20s (- 3m 46s) (30000 75%) 0.7606\n",
            "11m 24s (- 3m 42s) (30200 75%) 0.9143\n",
            "11m 29s (- 3m 37s) (30400 76%) 0.7765\n",
            "11m 33s (- 3m 33s) (30600 76%) 0.8242\n",
            "11m 38s (- 3m 28s) (30800 77%) 0.7685\n",
            "11m 42s (- 3m 23s) (31000 77%) 0.8480\n",
            "11m 47s (- 3m 19s) (31200 78%) 0.7737\n",
            "11m 51s (- 3m 14s) (31400 78%) 0.8136\n",
            "11m 56s (- 3m 10s) (31600 79%) 0.8286\n",
            "12m 1s (- 3m 5s) (31800 79%) 0.7380\n",
            "12m 6s (- 3m 1s) (32000 80%) 0.7887\n",
            "12m 10s (- 2m 56s) (32200 80%) 0.7076\n",
            "12m 15s (- 2m 52s) (32400 81%) 0.6751\n",
            "12m 19s (- 2m 47s) (32600 81%) 0.7321\n",
            "12m 24s (- 2m 43s) (32800 82%) 0.7035\n",
            "12m 28s (- 2m 38s) (33000 82%) 0.6166\n",
            "12m 33s (- 2m 34s) (33200 83%) 0.8138\n",
            "12m 37s (- 2m 29s) (33400 83%) 0.6435\n",
            "12m 42s (- 2m 25s) (33600 84%) 0.6939\n",
            "12m 47s (- 2m 20s) (33800 84%) 0.6398\n",
            "12m 51s (- 2m 16s) (34000 85%) 0.6128\n",
            "12m 56s (- 2m 11s) (34200 85%) 0.5906\n",
            "13m 0s (- 2m 7s) (34400 86%) 0.6664\n",
            "13m 5s (- 2m 2s) (34600 86%) 0.6069\n",
            "13m 10s (- 1m 58s) (34800 87%) 0.5408\n",
            "13m 14s (- 1m 53s) (35000 87%) 0.5352\n",
            "13m 19s (- 1m 48s) (35200 88%) 0.5483\n",
            "13m 23s (- 1m 44s) (35400 88%) 0.6859\n",
            "13m 28s (- 1m 39s) (35600 89%) 0.5677\n",
            "13m 32s (- 1m 35s) (35800 89%) 0.6955\n",
            "13m 37s (- 1m 30s) (36000 90%) 0.5941\n",
            "13m 41s (- 1m 26s) (36200 90%) 0.5287\n",
            "13m 46s (- 1m 21s) (36400 91%) 0.6541\n",
            "13m 50s (- 1m 17s) (36600 91%) 0.5693\n",
            "13m 55s (- 1m 12s) (36800 92%) 0.5604\n",
            "13m 59s (- 1m 8s) (37000 92%) 0.5647\n",
            "14m 4s (- 1m 3s) (37200 93%) 0.4381\n",
            "14m 8s (- 0m 59s) (37400 93%) 0.5987\n",
            "14m 13s (- 0m 54s) (37600 94%) 0.5067\n",
            "14m 17s (- 0m 49s) (37800 94%) 0.5161\n",
            "14m 22s (- 0m 45s) (38000 95%) 0.3844\n",
            "14m 26s (- 0m 40s) (38200 95%) 0.4235\n",
            "14m 31s (- 0m 36s) (38400 96%) 0.4808\n",
            "14m 35s (- 0m 31s) (38600 96%) 0.4766\n",
            "14m 40s (- 0m 27s) (38800 97%) 0.4964\n",
            "14m 44s (- 0m 22s) (39000 97%) 0.4765\n",
            "14m 49s (- 0m 18s) (39200 98%) 0.4964\n",
            "14m 53s (- 0m 13s) (39400 98%) 0.4144\n",
            "14m 57s (- 0m 9s) (39600 99%) 0.5090\n",
            "15m 2s (- 0m 4s) (39800 99%) 0.5435\n",
            "15m 6s (- 0m 0s) (40000 100%) 0.5155\n"
          ],
          "name": "stdout"
        },
        {
          "output_type": "display_data",
          "data": {
            "text/plain": [
              "<Figure size 432x288 with 0 Axes>"
            ]
          },
          "metadata": {
            "tags": []
          }
        },
        {
          "output_type": "display_data",
          "data": {
            "image/png": "[encoded data removed]",
            "text/plain": [
              "<Figure size 432x288 with 1 Axes>"
            ]
          },
          "metadata": {
            "tags": [],
            "needs_background": "light"
          }
        }
      ]
    },
    {
      "cell_type": "code",
      "metadata": {
        "id": "tg9eMx6tqPq4",
        "outputId": "e5d12cbf-5b9f-41d8-f79a-a4db570d6b07",
        "colab": {
          "base_uri": "https://localhost:8080/",
          "height": 1000
        }
      },
      "source": [
        "%matplotlib inline\n",
        "evaluateRandomly(encoder1, attn_decoder1)"
      ],
      "execution_count": 33,
      "outputs": [
        {
          "output_type": "stream",
          "text": [
            "English:  tom and i'll both be there  \n",
            "Actual:  टॉम और मैं दोनों वहाँ रहेंगे।\n",
            "Predicted:  टॉम और मैं दोनों वहाँ रहेंगे। \n",
            "Cumulative 1-gram: 1.000000\n",
            "Cumulative 2-gram: 1.000000\n",
            "Cumulative 3-gram: 1.000000\n",
            "Cumulative 4-gram: 1.000000\n",
            "1.0\n",
            "\n",
            "English:  the rumor proved to be an absolute lie  \n",
            "Actual:  वह अफ़वाह एकदम झूठी निकली।\n",
            "Predicted:  वह अफ़वाह एकदम झूठी निकली। \n",
            "Cumulative 1-gram: 1.000000\n",
            "Cumulative 2-gram: 1.000000\n",
            "Cumulative 3-gram: 1.000000\n",
            "Cumulative 4-gram: 1.000000\n",
            "1.0\n",
            "\n",
            "English:  i like the way she smiles  \n",
            "Actual:  मुझे उसकी मुस्कान अच्छी लगती है।\n",
            "Predicted:  मुझे उसकी मुस्कान अच्छी लगती है। \n",
            "Cumulative 1-gram: 1.000000\n",
            "Cumulative 2-gram: 1.000000\n",
            "Cumulative 3-gram: 1.000000\n",
            "Cumulative 4-gram: 1.000000\n",
            "1.0\n",
            "\n",
            "English:  my car is a toyota  \n",
            "Actual:  मेरी गाड़ी टोयोटा है।\n",
            "Predicted:  मेरी गाड़ी टोयोटा है। \n",
            "Cumulative 1-gram: 1.000000\n",
            "Cumulative 2-gram: 1.000000\n",
            "Cumulative 3-gram: 1.000000\n",
            "Cumulative 4-gram: 1.000000\n",
            "1.0\n",
            "\n",
            "English:  it is already eleven  \n",
            "Actual:  ग्यारह बज चुके हैं।\n",
            "Predicted:  ग्यारह बज चुके हैं। \n",
            "Cumulative 1-gram: 1.000000\n",
            "Cumulative 2-gram: 1.000000\n",
            "Cumulative 3-gram: 1.000000\n",
            "Cumulative 4-gram: 1.000000\n",
            "1.0\n",
            "\n",
            "English:  the lights have been burning all night  \n",
            "Actual:  बत्तियाँ पूरी रात से जल रहीं हैं।\n",
            "Predicted:  बत्तियाँ पूरी रात से जल रहीं हैं। \n",
            "Cumulative 1-gram: 1.000000\n",
            "Cumulative 2-gram: 1.000000\n",
            "Cumulative 3-gram: 1.000000\n",
            "Cumulative 4-gram: 1.000000\n",
            "1.0\n",
            "\n",
            "English:  he couldn't understand the sentence  \n",
            "Actual:  उसको वाक्य समझ में नहीं आया।\n",
            "Predicted:  उसको वाक्य समझ में नहीं आया। \n",
            "Cumulative 1-gram: 1.000000\n",
            "Cumulative 2-gram: 1.000000\n",
            "Cumulative 3-gram: 1.000000\n",
            "Cumulative 4-gram: 1.000000\n",
            "1.0\n",
            "\n",
            "English:  it's already nine o'clock  \n",
            "Actual:  नौ बज चुकें हैं।\n",
            "Predicted:  नौ बज चुकें हैं। \n",
            "Cumulative 1-gram: 1.000000\n",
            "Cumulative 2-gram: 1.000000\n",
            "Cumulative 3-gram: 1.000000\n",
            "Cumulative 4-gram: 1.000000\n",
            "1.0\n",
            "\n",
            "English:  he was happy at the news of her success  \n",
            "Actual:  वह उसकी कामयाबी की खबर सुनकर खुश था।\n",
            "Predicted:  वह उसकी कामयाबी की खबर खुश था। \n",
            "Cumulative 1-gram: 0.866878\n",
            "Cumulative 2-gram: 0.791348\n",
            "Cumulative 3-gram: 0.689633\n",
            "Cumulative 4-gram: 0.612975\n",
            "0.6129752413741056\n",
            "\n",
            "English:  i can't stand it anymore  \n",
            "Actual:  मुझसे और सहन नहीं होगा  \n",
            "Predicted:  मुझसे और सहन नहीं होगा   \n",
            "Cumulative 1-gram: 1.000000\n",
            "Cumulative 2-gram: 1.000000\n",
            "Cumulative 3-gram: 1.000000\n",
            "Cumulative 4-gram: 1.000000\n",
            "1.0\n",
            "\n"
          ],
          "name": "stdout"
        }
      ]
    },
    {
      "cell_type": "code",
      "metadata": {
        "id": "lBZEuHNhqsL3",
        "outputId": "277ef390-bbe7-4ae1-d0e2-0293821a8a96",
        "colab": {
          "base_uri": "https://localhost:8080/",
          "height": 293
        }
      },
      "source": [
        "%matplotlib inline\n",
        "output_words, attentions = evaluate(\n",
        "    encoder1, attn_decoder1, \"did you do your \")\n",
        "plt.matshow(attentions.numpy())\n",
        "#plt.show(attentions)"
      ],
      "execution_count": 34,
      "outputs": [
        {
          "output_type": "execute_result",
          "data": {
            "text/plain": [
              "<matplotlib.image.AxesImage at 0x7f5f6a771a90>"
            ]
          },
          "metadata": {
            "tags": []
          },
          "execution_count": 34
        },
        {
          "output_type": "display_data",
          "data": {
            "image/png": "[encoded data removed]",
            "text/plain": [
              "<Figure size 1056x288 with 1 Axes>"
            ]
          },
          "metadata": {
            "tags": [],
            "needs_background": "light"
          }
        }
      ]
    },
    {
      "cell_type": "code",
      "metadata": {
        "id": "2AZ7tDAzwVn3",
        "outputId": "894485c9-e596-4443-91d5-2a78dc13b080",
        "colab": {
          "base_uri": "https://localhost:8080/",
          "height": 1000
        }
      },
      "source": [
        "def showAttention(input_sentence, output_words, attentions):\n",
        "    %matplotlib inline\n",
        "    # Set up figure with colorbar\n",
        "    fig = plt.figure()\n",
        "    ax = fig.add_subplot(111)\n",
        "    cax = ax.matshow(attentions.numpy(), cmap='bone')\n",
        "    fig.colorbar(cax)\n",
        "\n",
        "    # Set up axes\n",
        "    ax.set_xticklabels([''] + input_sentence.split(' ') +\n",
        "                       ['<EOS>'], rotation=90)\n",
        "    ax.set_yticklabels([''] + output_words)\n",
        "\n",
        "    # Show label at every tick\n",
        "    ax.xaxis.set_major_locator(ticker.MultipleLocator(1))\n",
        "    ax.yaxis.set_major_locator(ticker.MultipleLocator(1))\n",
        "    \n",
        "    plt.show()\n",
        "\n",
        "\n",
        "def evaluateAndShowAttention(input_sentence):\n",
        "    output_words, attentions = evaluate(\n",
        "        encoder1, attn_decoder1, input_sentence)\n",
        "    print('input =', input_sentence)\n",
        "    print('output =', ' '.join(output_words))\n",
        "    showAttention(input_sentence, output_words, attentions)\n",
        "\n",
        "\n",
        "evaluateAndShowAttention(\"i'd rather not meet him\")\n",
        "\n",
        "evaluateAndShowAttention(\"i like studying english\")\n",
        "\n",
        "evaluateAndShowAttention(\"iron is harder than gold\")\n",
        "\n",
        "evaluateAndShowAttention(\"how are you\")"
      ],
      "execution_count": 40,
      "outputs": [
        {
          "output_type": "stream",
          "text": [
            "input = i'd rather not meet him\n",
            "output = हो सके तो मैं उससे मिलना नहीं चाहूँगी। \n"
          ],
          "name": "stdout"
        },
        {
          "output_type": "stream",
          "text": [
            "/usr/local/lib/python3.6/dist-packages/matplotlib/backends/backend_agg.py:214: RuntimeWarning: Glyph 2361 missing from current font.\n",
            "  font.set_text(s, 0.0, flags=flags)\n",
            "/usr/local/lib/python3.6/dist-packages/matplotlib/backends/backend_agg.py:214: RuntimeWarning: Glyph 2379 missing from current font.\n",
            "  font.set_text(s, 0.0, flags=flags)\n",
            "/usr/local/lib/python3.6/dist-packages/matplotlib/backends/backend_agg.py:214: RuntimeWarning: Glyph 2360 missing from current font.\n",
            "  font.set_text(s, 0.0, flags=flags)\n",
            "/usr/local/lib/python3.6/dist-packages/matplotlib/backends/backend_agg.py:214: RuntimeWarning: Glyph 2325 missing from current font.\n",
            "  font.set_text(s, 0.0, flags=flags)\n",
            "/usr/local/lib/python3.6/dist-packages/matplotlib/backends/backend_agg.py:214: RuntimeWarning: Glyph 2375 missing from current font.\n",
            "  font.set_text(s, 0.0, flags=flags)\n",
            "/usr/local/lib/python3.6/dist-packages/matplotlib/backends/backend_agg.py:214: RuntimeWarning: Glyph 2340 missing from current font.\n",
            "  font.set_text(s, 0.0, flags=flags)\n",
            "/usr/local/lib/python3.6/dist-packages/matplotlib/backends/backend_agg.py:214: RuntimeWarning: Glyph 2350 missing from current font.\n",
            "  font.set_text(s, 0.0, flags=flags)\n",
            "/usr/local/lib/python3.6/dist-packages/matplotlib/backends/backend_agg.py:214: RuntimeWarning: Glyph 2376 missing from current font.\n",
            "  font.set_text(s, 0.0, flags=flags)\n",
            "/usr/local/lib/python3.6/dist-packages/matplotlib/backends/backend_agg.py:214: RuntimeWarning: Glyph 2306 missing from current font.\n",
            "  font.set_text(s, 0.0, flags=flags)\n",
            "/usr/local/lib/python3.6/dist-packages/matplotlib/backends/backend_agg.py:214: RuntimeWarning: Glyph 2313 missing from current font.\n",
            "  font.set_text(s, 0.0, flags=flags)\n",
            "/usr/local/lib/python3.6/dist-packages/matplotlib/backends/backend_agg.py:214: RuntimeWarning: Glyph 2367 missing from current font.\n",
            "  font.set_text(s, 0.0, flags=flags)\n",
            "/usr/local/lib/python3.6/dist-packages/matplotlib/backends/backend_agg.py:214: RuntimeWarning: Glyph 2354 missing from current font.\n",
            "  font.set_text(s, 0.0, flags=flags)\n",
            "/usr/local/lib/python3.6/dist-packages/matplotlib/backends/backend_agg.py:214: RuntimeWarning: Glyph 2344 missing from current font.\n",
            "  font.set_text(s, 0.0, flags=flags)\n",
            "/usr/local/lib/python3.6/dist-packages/matplotlib/backends/backend_agg.py:214: RuntimeWarning: Glyph 2366 missing from current font.\n",
            "  font.set_text(s, 0.0, flags=flags)\n",
            "/usr/local/lib/python3.6/dist-packages/matplotlib/backends/backend_agg.py:214: RuntimeWarning: Glyph 2368 missing from current font.\n",
            "  font.set_text(s, 0.0, flags=flags)\n",
            "/usr/local/lib/python3.6/dist-packages/matplotlib/backends/backend_agg.py:214: RuntimeWarning: Glyph 2330 missing from current font.\n",
            "  font.set_text(s, 0.0, flags=flags)\n",
            "/usr/local/lib/python3.6/dist-packages/matplotlib/backends/backend_agg.py:214: RuntimeWarning: Glyph 2370 missing from current font.\n",
            "  font.set_text(s, 0.0, flags=flags)\n",
            "/usr/local/lib/python3.6/dist-packages/matplotlib/backends/backend_agg.py:214: RuntimeWarning: Glyph 2305 missing from current font.\n",
            "  font.set_text(s, 0.0, flags=flags)\n",
            "/usr/local/lib/python3.6/dist-packages/matplotlib/backends/backend_agg.py:214: RuntimeWarning: Glyph 2327 missing from current font.\n",
            "  font.set_text(s, 0.0, flags=flags)\n",
            "/usr/local/lib/python3.6/dist-packages/matplotlib/backends/backend_agg.py:214: RuntimeWarning: Glyph 2404 missing from current font.\n",
            "  font.set_text(s, 0.0, flags=flags)\n",
            "/usr/local/lib/python3.6/dist-packages/matplotlib/backends/backend_agg.py:183: RuntimeWarning: Glyph 2361 missing from current font.\n",
            "  font.set_text(s, 0, flags=flags)\n",
            "/usr/local/lib/python3.6/dist-packages/matplotlib/backends/backend_agg.py:183: RuntimeWarning: Glyph 2379 missing from current font.\n",
            "  font.set_text(s, 0, flags=flags)\n",
            "/usr/local/lib/python3.6/dist-packages/matplotlib/backends/backend_agg.py:183: RuntimeWarning: Glyph 2360 missing from current font.\n",
            "  font.set_text(s, 0, flags=flags)\n",
            "/usr/local/lib/python3.6/dist-packages/matplotlib/backends/backend_agg.py:183: RuntimeWarning: Glyph 2325 missing from current font.\n",
            "  font.set_text(s, 0, flags=flags)\n",
            "/usr/local/lib/python3.6/dist-packages/matplotlib/backends/backend_agg.py:183: RuntimeWarning: Glyph 2375 missing from current font.\n",
            "  font.set_text(s, 0, flags=flags)\n",
            "/usr/local/lib/python3.6/dist-packages/matplotlib/backends/backend_agg.py:183: RuntimeWarning: Glyph 2340 missing from current font.\n",
            "  font.set_text(s, 0, flags=flags)\n",
            "/usr/local/lib/python3.6/dist-packages/matplotlib/backends/backend_agg.py:183: RuntimeWarning: Glyph 2350 missing from current font.\n",
            "  font.set_text(s, 0, flags=flags)\n",
            "/usr/local/lib/python3.6/dist-packages/matplotlib/backends/backend_agg.py:183: RuntimeWarning: Glyph 2376 missing from current font.\n",
            "  font.set_text(s, 0, flags=flags)\n",
            "/usr/local/lib/python3.6/dist-packages/matplotlib/backends/backend_agg.py:183: RuntimeWarning: Glyph 2306 missing from current font.\n",
            "  font.set_text(s, 0, flags=flags)\n",
            "/usr/local/lib/python3.6/dist-packages/matplotlib/backends/backend_agg.py:183: RuntimeWarning: Glyph 2313 missing from current font.\n",
            "  font.set_text(s, 0, flags=flags)\n",
            "/usr/local/lib/python3.6/dist-packages/matplotlib/backends/backend_agg.py:183: RuntimeWarning: Glyph 2367 missing from current font.\n",
            "  font.set_text(s, 0, flags=flags)\n",
            "/usr/local/lib/python3.6/dist-packages/matplotlib/backends/backend_agg.py:183: RuntimeWarning: Glyph 2354 missing from current font.\n",
            "  font.set_text(s, 0, flags=flags)\n",
            "/usr/local/lib/python3.6/dist-packages/matplotlib/backends/backend_agg.py:183: RuntimeWarning: Glyph 2344 missing from current font.\n",
            "  font.set_text(s, 0, flags=flags)\n",
            "/usr/local/lib/python3.6/dist-packages/matplotlib/backends/backend_agg.py:183: RuntimeWarning: Glyph 2366 missing from current font.\n",
            "  font.set_text(s, 0, flags=flags)\n",
            "/usr/local/lib/python3.6/dist-packages/matplotlib/backends/backend_agg.py:183: RuntimeWarning: Glyph 2368 missing from current font.\n",
            "  font.set_text(s, 0, flags=flags)\n",
            "/usr/local/lib/python3.6/dist-packages/matplotlib/backends/backend_agg.py:183: RuntimeWarning: Glyph 2330 missing from current font.\n",
            "  font.set_text(s, 0, flags=flags)\n",
            "/usr/local/lib/python3.6/dist-packages/matplotlib/backends/backend_agg.py:183: RuntimeWarning: Glyph 2370 missing from current font.\n",
            "  font.set_text(s, 0, flags=flags)\n",
            "/usr/local/lib/python3.6/dist-packages/matplotlib/backends/backend_agg.py:183: RuntimeWarning: Glyph 2305 missing from current font.\n",
            "  font.set_text(s, 0, flags=flags)\n",
            "/usr/local/lib/python3.6/dist-packages/matplotlib/backends/backend_agg.py:183: RuntimeWarning: Glyph 2327 missing from current font.\n",
            "  font.set_text(s, 0, flags=flags)\n",
            "/usr/local/lib/python3.6/dist-packages/matplotlib/backends/backend_agg.py:183: RuntimeWarning: Glyph 2404 missing from current font.\n",
            "  font.set_text(s, 0, flags=flags)\n"
          ],
          "name": "stderr"
        },
        {
          "output_type": "display_data",
          "data": {
            "image/png": "[encoded data removed]",
            "text/plain": [
              "<Figure size 432x288 with 2 Axes>"
            ]
          },
          "metadata": {
            "tags": [],
            "needs_background": "light"
          }
        },
        {
          "output_type": "stream",
          "text": [
            "input = i like studying english\n",
            "output = मुझे अंग्रेज़ी पढ़ना अच्छा है। \n"
          ],
          "name": "stdout"
        },
        {
          "output_type": "stream",
          "text": [
            "/usr/local/lib/python3.6/dist-packages/matplotlib/backends/backend_agg.py:214: RuntimeWarning: Glyph 2369 missing from current font.\n",
            "  font.set_text(s, 0.0, flags=flags)\n",
            "/usr/local/lib/python3.6/dist-packages/matplotlib/backends/backend_agg.py:214: RuntimeWarning: Glyph 2333 missing from current font.\n",
            "  font.set_text(s, 0.0, flags=flags)\n",
            "/usr/local/lib/python3.6/dist-packages/matplotlib/backends/backend_agg.py:214: RuntimeWarning: Glyph 2309 missing from current font.\n",
            "  font.set_text(s, 0.0, flags=flags)\n",
            "/usr/local/lib/python3.6/dist-packages/matplotlib/backends/backend_agg.py:214: RuntimeWarning: Glyph 2381 missing from current font.\n",
            "  font.set_text(s, 0.0, flags=flags)\n",
            "/usr/local/lib/python3.6/dist-packages/matplotlib/backends/backend_agg.py:214: RuntimeWarning: Glyph 2352 missing from current font.\n",
            "  font.set_text(s, 0.0, flags=flags)\n",
            "/usr/local/lib/python3.6/dist-packages/matplotlib/backends/backend_agg.py:214: RuntimeWarning: Glyph 2332 missing from current font.\n",
            "  font.set_text(s, 0.0, flags=flags)\n",
            "/usr/local/lib/python3.6/dist-packages/matplotlib/backends/backend_agg.py:214: RuntimeWarning: Glyph 2364 missing from current font.\n",
            "  font.set_text(s, 0.0, flags=flags)\n",
            "/usr/local/lib/python3.6/dist-packages/matplotlib/backends/backend_agg.py:214: RuntimeWarning: Glyph 2346 missing from current font.\n",
            "  font.set_text(s, 0.0, flags=flags)\n",
            "/usr/local/lib/python3.6/dist-packages/matplotlib/backends/backend_agg.py:214: RuntimeWarning: Glyph 2338 missing from current font.\n",
            "  font.set_text(s, 0.0, flags=flags)\n",
            "/usr/local/lib/python3.6/dist-packages/matplotlib/backends/backend_agg.py:214: RuntimeWarning: Glyph 2331 missing from current font.\n",
            "  font.set_text(s, 0.0, flags=flags)\n",
            "/usr/local/lib/python3.6/dist-packages/matplotlib/backends/backend_agg.py:183: RuntimeWarning: Glyph 2369 missing from current font.\n",
            "  font.set_text(s, 0, flags=flags)\n",
            "/usr/local/lib/python3.6/dist-packages/matplotlib/backends/backend_agg.py:183: RuntimeWarning: Glyph 2333 missing from current font.\n",
            "  font.set_text(s, 0, flags=flags)\n",
            "/usr/local/lib/python3.6/dist-packages/matplotlib/backends/backend_agg.py:183: RuntimeWarning: Glyph 2309 missing from current font.\n",
            "  font.set_text(s, 0, flags=flags)\n",
            "/usr/local/lib/python3.6/dist-packages/matplotlib/backends/backend_agg.py:183: RuntimeWarning: Glyph 2381 missing from current font.\n",
            "  font.set_text(s, 0, flags=flags)\n",
            "/usr/local/lib/python3.6/dist-packages/matplotlib/backends/backend_agg.py:183: RuntimeWarning: Glyph 2352 missing from current font.\n",
            "  font.set_text(s, 0, flags=flags)\n",
            "/usr/local/lib/python3.6/dist-packages/matplotlib/backends/backend_agg.py:183: RuntimeWarning: Glyph 2332 missing from current font.\n",
            "  font.set_text(s, 0, flags=flags)\n",
            "/usr/local/lib/python3.6/dist-packages/matplotlib/backends/backend_agg.py:183: RuntimeWarning: Glyph 2364 missing from current font.\n",
            "  font.set_text(s, 0, flags=flags)\n",
            "/usr/local/lib/python3.6/dist-packages/matplotlib/backends/backend_agg.py:183: RuntimeWarning: Glyph 2346 missing from current font.\n",
            "  font.set_text(s, 0, flags=flags)\n",
            "/usr/local/lib/python3.6/dist-packages/matplotlib/backends/backend_agg.py:183: RuntimeWarning: Glyph 2338 missing from current font.\n",
            "  font.set_text(s, 0, flags=flags)\n",
            "/usr/local/lib/python3.6/dist-packages/matplotlib/backends/backend_agg.py:183: RuntimeWarning: Glyph 2331 missing from current font.\n",
            "  font.set_text(s, 0, flags=flags)\n"
          ],
          "name": "stderr"
        },
        {
          "output_type": "display_data",
          "data": {
            "image/png": "[encoded data removed]",
            "text/plain": [
              "<Figure size 432x288 with 2 Axes>"
            ]
          },
          "metadata": {
            "tags": [],
            "needs_background": "light"
          }
        },
        {
          "output_type": "stream",
          "text": [
            "input = iron is harder than gold\n",
            "output = लोहा सोने से सख्त होता है। \n"
          ],
          "name": "stdout"
        },
        {
          "output_type": "stream",
          "text": [
            "/usr/local/lib/python3.6/dist-packages/matplotlib/backends/backend_agg.py:214: RuntimeWarning: Glyph 2326 missing from current font.\n",
            "  font.set_text(s, 0.0, flags=flags)\n",
            "/usr/local/lib/python3.6/dist-packages/matplotlib/backends/backend_agg.py:183: RuntimeWarning: Glyph 2326 missing from current font.\n",
            "  font.set_text(s, 0, flags=flags)\n"
          ],
          "name": "stderr"
        },
        {
          "output_type": "display_data",
          "data": {
            "image/png": "[encoded data removed]",
            "text/plain": [
              "<Figure size 432x288 with 2 Axes>"
            ]
          },
          "metadata": {
            "tags": [],
            "needs_background": "light"
          }
        },
        {
          "output_type": "stream",
          "text": [
            "input = how are you\n",
            "output = तुम कैसे हो   \n"
          ],
          "name": "stdout"
        },
        {
          "output_type": "display_data",
          "data": {
            "image/png": "[encoded data removed]",
            "text/plain": [
              "<Figure size 432x288 with 2 Axes>"
            ]
          },
          "metadata": {
            "tags": [],
            "needs_background": "light"
          }
        }
      ]
    },
    {
      "cell_type": "code",
      "metadata": {
        "id": "99_JVh6Gw1Bf"
      },
      "source": [
        "torch.save(encoder1,'encoderhintoeng.pt')"
      ],
      "execution_count": 41,
      "outputs": []
    },
    {
      "cell_type": "code",
      "metadata": {
        "id": "43uM2rAsye4A"
      },
      "source": [
        "torch.save(attn_decoder1,'attndecoderhintoeng.pt')"
      ],
      "execution_count": 42,
      "outputs": []
    }
  ]
}